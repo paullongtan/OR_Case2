{
 "cells": [
  {
   "cell_type": "markdown",
   "id": "2f0d1b3a",
   "metadata": {},
   "source": [
    "## 110-2 Operations Research Case 2\n",
    "\n",
    "Algorithm 2: based on Latest Start Time, with some optimizations\n",
    "\n",
    "Add output function"
   ]
  },
  {
   "cell_type": "markdown",
   "id": "ba1a8c1e",
   "metadata": {},
   "source": [
    "## Loading data"
   ]
  },
  {
   "cell_type": "code",
   "execution_count": 1,
   "id": "1ce9e725",
   "metadata": {},
   "outputs": [],
   "source": [
    "import pandas as pd \n",
    "import numpy as np"
   ]
  },
  {
   "cell_type": "code",
   "execution_count": 2,
   "id": "d6fa08a7",
   "metadata": {},
   "outputs": [],
   "source": [
    "# !git clone https://github.com/DanielStutzbach/heapdict"
   ]
  },
  {
   "cell_type": "code",
   "execution_count": 3,
   "id": "106b33e4",
   "metadata": {},
   "outputs": [],
   "source": [
    "from heapdict import heapdict\n",
    "# see https://github.com/DanielStutzbach/heapdict\n",
    "# or directly !pip install HeapDict\n",
    "Q = heapdict()"
   ]
  },
  {
   "cell_type": "code",
   "execution_count": 8,
   "id": "1f83d8aa",
   "metadata": {},
   "outputs": [],
   "source": [
    "datadir = './data'\n",
    "instances = []\n",
    "for i in range(5):\n",
    "    name = f'instance_{i+1}.csv'\n",
    "    fullpath = datadir+'/'+name\n",
    "    instances.append(pd.read_csv(fullpath))"
   ]
  },
  {
   "cell_type": "markdown",
   "id": "991f1b0d",
   "metadata": {},
   "source": [
    "## Data Structures"
   ]
  },
  {
   "cell_type": "code",
   "execution_count": 9,
   "id": "d50503b0",
   "metadata": {},
   "outputs": [],
   "source": [
    "# job structure \n",
    "class Job:\n",
    "    '''structure for 1 job '''\n",
    "    def __init__(self, row):\n",
    "        '''input := df.iloc[idx, :]'''\n",
    "        self.id = row['Job ID']\n",
    "        self.due = row['Due Time']\n",
    "        self.next_op = 0 # True as complete, False as not yet processed\n",
    "        self.stage_pt = [row['Stage-1 Processing Time'], row['Stage-2 Processing Time']]\n",
    "        mfor1 = list(map(int, row['Stage-1 Machines'].split(',')))\n",
    "        if row['Stage-2 Machines'] is not np.nan:\n",
    "            mfor2 = list(map(int, row['Stage-2 Machines'].split(',')))\n",
    "        else: mfor2 = [] \n",
    "        self.stage_mach = [mfor1, mfor2]\n",
    "        self.assign_mach = [None for _ in range(2)]\n",
    "        self.start_time = [-1 for _ in range(2)]\n",
    "        self.end_time = [-1 for _ in range(2)]\n",
    "    \n",
    "    def __repr__(self):\n",
    "        return f'\\\n",
    "          * Job id: {self.id}\\n\\\n",
    "          * Due time:{self.due}\\n\\\n",
    "          stage 1: {self.assign_mach[0]}\\n\\\n",
    "                   {self.stage_pt[0]}, {self.stage_mach[0]}\\n\\\n",
    "          stage 2: {self.assign_mach[1]}\\n\\\n",
    "                   {self.stage_pt[1]}, {self.stage_mach[1]}'\n",
    "    __str__ = __repr__\n",
    "        "
   ]
  },
  {
   "cell_type": "code",
   "execution_count": 10,
   "id": "3ddde0de",
   "metadata": {},
   "outputs": [],
   "source": [
    "class Jobs:\n",
    "    '''structure for multiple jobs' management'''\n",
    "    def __init__(self, n):\n",
    "        self.completion_times = np.zeros(n)\n",
    "        self.tardiness = np.zeros(n)\n",
    "        self.is_completed = np.full(n, False)\n",
    "        self.residual_times = np.zeros(n)\n",
    "        self.jobs = []\n",
    "        \n",
    "    def get_RRDD(self):\n",
    "        if getattr(self, 'RRDD', None) is None:\n",
    "            self.RRDD = self.due_dates - np.min(self.due_dates)\n",
    "        return self.RRDD # static\n",
    "\n",
    "    def get_LST(self):\n",
    "        '''latest start time'''\n",
    "        self.LST = self.due_dates - self.residual_times\n",
    "        return self.LST\n",
    "    \n",
    "    def add_jobs(self, data):\n",
    "        self.due_dates = data['Due Time'].to_numpy()\n",
    "        for i in range(len(data)):\n",
    "            row = data.iloc[i, :]\n",
    "            jobi = Job(row)\n",
    "            self.residual_times[i] = sum(jobi.stage_pt)\n",
    "            self.jobs.append(jobi)\n",
    "            \n",
    "    \n",
    "    def assign(self, job_name, mach, st):\n",
    "        '''job_name = (2, 0) means job 3 and op 1\n",
    "        note that job and op is 0-indexed as well as machines\n",
    "        op\n",
    "        '''\n",
    "        \n",
    "        i = 0 \n",
    "        jobidx, op = job_name \n",
    "        job = self.jobs[jobidx]\n",
    "        J.completion_times[jobidx] = st + job.stage_pt[op]\n",
    "        J.residual_times[jobidx] -= job.stage_pt[op]\n",
    "        job.assign_mach[op] = mach\n",
    "        job.start_time[op] = st\n",
    "        job.end_time[op] = J.completion_times[jobidx]\n",
    "        job.next_op = op+1\n",
    "        if op == 1:\n",
    "            self.is_completed[jobidx] = True"
   ]
  },
  {
   "cell_type": "code",
   "execution_count": 11,
   "id": "f89fba3d",
   "metadata": {},
   "outputs": [],
   "source": [
    "class Machines:\n",
    "    def __init__(self, df):\n",
    "        '''pass the stage1, stage2 machine lists'''\n",
    "        mfor1 = df['Stage-1 Machines'].values.tolist()\n",
    "        mfor2 = df['Stage-2 Machines'].values.tolist()\n",
    "        mfor1 = [list(map(int, x.split(','))) for x in mfor1]\n",
    "        mfor2 = [list(map(int, x.split(','))) for x in mfor2 if x is not np.nan]\n",
    "        mfor1 = sum(mfor1, [])\n",
    "        mfor2 = sum(mfor2, [])\n",
    "        self.number = max(max(mfor1), max(mfor2))\n",
    "        self.versatile = [mfor1.count(i+1) + mfor2.count(i+1) for i in range(self.number)]\n",
    "        self.schedule = [[] for _ in range(self.number)]\n",
    "        self.span = [[] for _ in range(self.number)]\n",
    "        self.fintime = [0 for _ in range(self.number)]\n",
    "        \n",
    "    def _schedule(self, mach, job_name, st, proc_time):\n",
    "        '''mach is 0-indexed'''\n",
    "        display_name = tuple([x+1 for x in job_name])\n",
    "        self.schedule[mach].append(f'{display_name} {proc_time:.2f}') \n",
    "        self.span[mach].append(proc_time)\n",
    "        self.fintime[mach] = st + proc_time\n",
    "    \n",
    "    def add_idle(self, mach, idle_time):\n",
    "        self.schedule[mach].append(f'idle {idle_time:.2f}') \n",
    "        self.span[mach].append(idle_time)\n",
    "        self.fintime[mach] += idle_time\n",
    "        "
   ]
  },
  {
   "cell_type": "markdown",
   "id": "2febdf2c",
   "metadata": {},
   "source": [
    "## Which instance to test?"
   ]
  },
  {
   "cell_type": "code",
   "execution_count": 52,
   "id": "b3d26a0d",
   "metadata": {},
   "outputs": [],
   "source": [
    "INSTANCEIDX = 4\n",
    "df = instances[INSTANCEIDX]"
   ]
  },
  {
   "cell_type": "markdown",
   "id": "622d830f",
   "metadata": {},
   "source": [
    "## Preprocessing \n",
    "Usage:\n",
    "1. Read the dataframe into `Machines()` as `M`.\n",
    "2. Init by giving the length of jobs to `Jobs()` as `J`.\n",
    "    Initialize it by calling `add_jobs()`.\n",
    "3. Call our heuristic algorithm. \n",
    "4. Get the result from `M, J`. No need to return them. "
   ]
  },
  {
   "cell_type": "code",
   "execution_count": 53,
   "id": "7627e513",
   "metadata": {},
   "outputs": [],
   "source": [
    "M = Machines(df)\n",
    "J = Jobs(len(df))\n",
    "J.add_jobs(df)\n",
    "# print(J.residual_times)\n",
    "# print(J.get_LST())"
   ]
  },
  {
   "cell_type": "markdown",
   "id": "e0e403ef",
   "metadata": {},
   "source": [
    "## Algorithm\n",
    "\n",
    "#### Warnings:\n",
    "\n",
    "1. Re-run the code from **preprcoessing section** otherwise the data stuctures will keep accumulating repetitive datas. \n",
    "\n",
    "2. All the indexing is 0-indexed for coding convenience, but when storing back to `M.schedule` for displaying purpose, it is changed into 1-indexed. \n",
    "\n",
    "\n",
    "#### Steps:\n",
    "\n",
    "1. ```LST = self.due_dates - self.residual_times ```\n",
    "\n",
    "    `self.due_dates[j]` is the deadline for job ${j}$.\n",
    "    `residual_times[j]` is the remaining processing times for job ${j}$.\n",
    "    `LST[j]` is very similar to the idea of slackness/remaining time for you to procrastinate. \n",
    "    The less is LST, the sooner this job is to be scheduled (otherwise it's too late for it to catch up the deadline).\n",
    "    \n",
    "\n",
    "\n",
    "2. Jobs are put into a priority queue ${Q}$, which are ordered by their associated **LST**.\n",
    "\n",
    "\n",
    "3. ```Extract_min()``` from ${Q}$ as `curr_job`, and get its corresponding operation.\n",
    "    That is, if curr_job's first operation is not done yet, do first op;\n",
    "    otherwise do second op. This value of which op to execute is stored in `job.next_op` attribute.\n",
    "\n",
    "4. Calculate the best machine to schedule `curr_job`'s `curr_op`.\n",
    "    The idea is to get its associated subset of machines, \n",
    "    and then order them by (1) their current finished times (for the sake of makespan), and then \n",
    "    (2) their `versatility`. Versatility is a static vector, `M.versatile[m]` specifies **the number of operations machine ${m}$ is capable of executing.** \n",
    "    To sum up, the best machine `curr_machine` is computed by: \n",
    "    ```curr_machine = min(avail_machines_idx, key = lambda m: (M.fintime[m], M.versatile[m], m))```\n",
    "   Then put ```curr_job``` onto this machine.\n",
    "\n",
    "\n",
    "5. To schedule or not to schedule, that is a question.\n",
    "    \n",
    "    **NEW FEATURE**\n",
    "    Decide if this job is `PERMIT`: (1) if its current completion time plus current op's processing time is already tardy, associate it with a very big `LST`, set `PERMIT = False`. This seems to work on instance 3;\n",
    "    (2) if its scheduling requires an idle time that is too large, postpone it temporarily, associate it with `LST`+0.5, set `PERMIT = False`.\n",
    "    In both non-permitable cases, increment `failures` to record how many times the job is popped from ${Q}$ but fails to be scheduled. If > 2, we schedule it no matter waht. \n",
    "   \n",
    "   If `PERMIT`, update values, especially update the completion_times, residual_times and **LST**,\n",
    "   \n",
    "   else(`not PERMIT`), push the operation back to ${Q}$ with the new `LST`. \n",
    "   \n",
    "   \n",
    "   For debugging purpose, I add time of idleness into M.schedule so that it is easier to read the schedule, calculate times and check feasibility. \n",
    "\n",
    "6. Check if all job operations are scheduled, if yes, stop the algorithm, if no, continue the iteration (go back to step 3).\n",
    "\n",
    "\n",
    "#### Result:\n",
    "\n",
    "1. `M.fintime` is the finishing time of machines, you can get the makespan by `max(M.fintime)`.\n",
    "2. `M.schedule` is the schedule of machines, similar to gantt chart. \n",
    "3. `J.completion_times` is the completion times for all jobs. Comparing it with `J.due_dates` using\n",
    "   ```tardies = list(np.where(J.completion_times > J.due_dates)[0])```\n",
    "   gives you the tardy jobs (it's 0-indexed!!!). Turn it to 1-indexed by \n",
    "   ```[x+1 for x in tardies]```. \n",
    "   "
   ]
  },
  {
   "cell_type": "code",
   "execution_count": 54,
   "id": "dda5fc29",
   "metadata": {},
   "outputs": [
    {
     "data": {
      "text/plain": [
       "(1.7763568394002505e-15, 19)"
      ]
     },
     "execution_count": 54,
     "metadata": {},
     "output_type": "execute_result"
    }
   ],
   "source": [
    "# Priority Queue structure \n",
    "from heapq import heappush, heappop, heapify\n",
    "Jobs_keys = [(key, job_index) for job_index, key in enumerate(J.get_LST())]\n",
    "Q = Jobs_keys[:]\n",
    "heapify(Q)  # sort first by slack, then by index, so it is breaking ties with smallest index \n",
    "Q[0]\n",
    "# curr_job = heappop(Q)\n",
    "# curr_job"
   ]
  },
  {
   "cell_type": "markdown",
   "id": "7326999f",
   "metadata": {},
   "source": [
    "## Algorithm"
   ]
  },
  {
   "cell_type": "code",
   "execution_count": 76,
   "id": "caf62832",
   "metadata": {},
   "outputs": [],
   "source": [
    "# while not all operations in all jobs are scheduled\n",
    "\n",
    "def heuristic(J, M): \n",
    "    # best_makepsan = sum(job_processing_time) for all jobs / |M|\n",
    "    TOLRATIO = 0.3\n",
    "    best_makespan = sum(job.stage_pt[0]+job.stage_pt[1] for job in J.jobs)/M.number\n",
    "    tolerance = best_makespan * TOLRATIO  # tolerance for idle time\n",
    "    # tolerance is a hyper-parameter; if idle > tolerance, do not schedule the curr op in the current epoch. \n",
    "    print(f'[INFO] {len(J.jobs)} jobs, {M.number} machines')\n",
    "    print(f'[INFO] Tolerance: {tolerance:.2f}')\n",
    "    # step 1. call get_LST()\n",
    "    Q = [(lst, job_index) for job_index, lst in enumerate(J.get_LST())]\n",
    "    # step 2. make priority queue \n",
    "    heapify(Q)\n",
    "    fails = [0 for _ in range(len(J.jobs))]\n",
    "    # step 6. check if all jobs are completed \n",
    "    epoch = 0\n",
    "    while not np.all(J.is_completed):\n",
    "        epoch += 1\n",
    "        \n",
    "        \n",
    "        PERMIT = True\n",
    "        # step 3. extract_min() to get the job with minimal LST and its other attributes\n",
    "        _, curr_job_index = heappop(Q)\n",
    "        curr_job = J.jobs[curr_job_index]\n",
    "        curr_op = curr_job.next_op\n",
    "        \n",
    "        op_proc_time = curr_job.stage_pt[curr_op]\n",
    "        job_name = (curr_job_index, curr_op)\n",
    "         \n",
    "        avail_machines_idx = [x-1 for x in curr_job.stage_mach[curr_op]]\n",
    "        # if curr_job has no second operation \n",
    "        if op_proc_time <= 0: \n",
    "            J.assign(job_name = job_name, \n",
    "                    mach = -1,\n",
    "                    st = curr_job.end_time[curr_op-1]) \n",
    "            # note that it's only possible for second operation to have proc time = 0\n",
    "            # so this doesn't trigger index error\n",
    "            continue \n",
    "        # step 4. calculate the best machine\n",
    "        curr_machine = min(avail_machines_idx, key = lambda x: (M.fintime[x], M.versatile[x], x))\n",
    "        \n",
    "        # ARE THERE REASONS TO POSTPONE THE CURR OP?\n",
    "        if J.completion_times[curr_job_index] + op_proc_time > J.due_dates[curr_job_index] and fails[curr_job_index] < 2:\n",
    "            print(f'[INFO] Job {curr_job_index+1} will be tardy even if scheduled, queue last.')\n",
    "            curr_new_value = float('inf')\n",
    "            PERMIT = False\n",
    "        \n",
    "        # ARE THERE REASONS TO POSTPONE THE CURR OP?\n",
    "        elif M.fintime[curr_machine] < J.completion_times[curr_job_index]:\n",
    "            idle = J.completion_times[curr_job_index] - M.fintime[curr_machine]\n",
    "            if idle > tolerance and curr_op == 1 and fails[curr_job_index] < 2:\n",
    "                print(f'[INFO] Job {curr_job_index+1} op {curr_op} has idle {idle:.2f}, postpone it.')\n",
    "                PERMIT = False\n",
    "                if Q:\n",
    "                    curr_new_value = Q[0][0] + 0.2\n",
    "                else:\n",
    "                    curr_new_value = 0 # the last one \n",
    "            else:\n",
    "                M.add_idle( \n",
    "                mach = curr_machine, \n",
    "                idle_time = idle)\n",
    "         \n",
    "        if PERMIT:\n",
    "            J.assign(job_name = job_name, \n",
    "                mach = curr_machine, \n",
    "                 st = M.fintime[curr_machine]\n",
    "                ) \n",
    "            M._schedule(job_name = job_name, \n",
    "               mach = curr_machine, \n",
    "                proc_time = op_proc_time,\n",
    "               st = M.fintime[curr_machine])\n",
    "            curr_new_value = J.get_LST()[curr_job_index]\n",
    "        else: \n",
    "            fails[curr_job_index] += 1\n",
    "        # print(f'{epoch} Fails Count:', fails)\n",
    "        # update the LST value and push it back to Q if the job has its second operation that hasn't been done\n",
    "        if curr_op == 0 or not PERMIT:\n",
    "            heappush(Q, (curr_new_value, curr_job_index))\n",
    "            # it maintains the heap invariant, no need to heapify"
   ]
  },
  {
   "cell_type": "code",
   "execution_count": 77,
   "id": "e65e172d",
   "metadata": {},
   "outputs": [
    {
     "name": "stdout",
     "output_type": "stream",
     "text": [
      "[INFO] 20 jobs, 9 machines\n",
      "[INFO] Tolerance: 5.55\n"
     ]
    },
    {
     "data": {
      "text/plain": [
       "array([ True,  True,  True,  True,  True,  True,  True,  True,  True,\n",
       "        True,  True,  True,  True,  True,  True,  True,  True,  True,\n",
       "        True,  True])"
      ]
     },
     "execution_count": 77,
     "metadata": {},
     "output_type": "execute_result"
    }
   ],
   "source": [
    "heuristic(J, M)\n",
    "J.is_completed"
   ]
  },
  {
   "cell_type": "code",
   "execution_count": null,
   "id": "1077b789",
   "metadata": {},
   "outputs": [],
   "source": []
  },
  {
   "cell_type": "code",
   "execution_count": 78,
   "id": "d7820abf",
   "metadata": {},
   "outputs": [
    {
     "data": {
      "text/plain": [
       "[[6.4, 3.1, 0.5, 5.5, 0.2, 2.6, 1.0999999999999979, 0.6],\n",
       " [6.8, 6.6, 6.5, 0.4],\n",
       " [9.6, 6.2, 0.9],\n",
       " [4.8, 3.5, 4.3, 4.9],\n",
       " [9.6, 5.0, 4.8],\n",
       " [7.6, 1.0, 3.5, 6.9],\n",
       " [9.0, 8.7, 0.6],\n",
       " [5.3, 1.7, 0.5, 5.8, 6.6],\n",
       " [8.9, 1.2, 5.4, 2.6, 5.0]]"
      ]
     },
     "execution_count": 78,
     "metadata": {},
     "output_type": "execute_result"
    }
   ],
   "source": [
    "M.span"
   ]
  },
  {
   "cell_type": "code",
   "execution_count": 79,
   "id": "cec19206",
   "metadata": {},
   "outputs": [
    {
     "data": {
      "text/plain": [
       "array([23.1,  9.6, 10.1,  8.9,  8.6, 14.6, 15.7, 16.7, 20.3, 18.3, 18.1,\n",
       "       13.3, 12.6, 17.7, 20. , 18.3, 19. ,  7. , 10. , 13.4])"
      ]
     },
     "execution_count": 79,
     "metadata": {},
     "output_type": "execute_result"
    }
   ],
   "source": [
    "J.completion_times"
   ]
  },
  {
   "cell_type": "code",
   "execution_count": 80,
   "id": "87ef4844",
   "metadata": {},
   "outputs": [
    {
     "data": {
      "text/plain": [
       "(array([ 0,  2,  5,  6,  7, 10, 12, 14, 15, 16]),)"
      ]
     },
     "execution_count": 80,
     "metadata": {},
     "output_type": "execute_result"
    }
   ],
   "source": [
    "np.where(J.completion_times > J.due_dates)"
   ]
  },
  {
   "cell_type": "code",
   "execution_count": 81,
   "id": "6c36263d",
   "metadata": {},
   "outputs": [
    {
     "name": "stdout",
     "output_type": "stream",
     "text": [
      "Instance 5:\n",
      "First objective (# tardy): 10 [0, 2, 5, 6, 7, 10, 12, 14, 15, 16]\n",
      "Second objective (makespan): 23.1\n"
     ]
    }
   ],
   "source": [
    "Tardy_jobs = list(np.where(J.completion_times > J.due_dates)[0])\n",
    "Makespan = max(M.fintime)\n",
    "print(f'Instance {i+1}:')\n",
    "print('First objective (# tardy):', len(Tardy_jobs), Tardy_jobs)\n",
    "print('Second objective (makespan):', Makespan)"
   ]
  },
  {
   "cell_type": "code",
   "execution_count": 82,
   "id": "963e4a72",
   "metadata": {},
   "outputs": [
    {
     "data": {
      "text/plain": [
       "[20.0, 20.299999999999997, 16.7, 17.5, 19.4, 19.0, 18.3, 19.9, 23.1]"
      ]
     },
     "execution_count": 82,
     "metadata": {},
     "output_type": "execute_result"
    }
   ],
   "source": [
    "M.fintime"
   ]
  },
  {
   "cell_type": "code",
   "execution_count": 83,
   "id": "a53b9b1d",
   "metadata": {},
   "outputs": [
    {
     "name": "stdout",
     "output_type": "stream",
     "text": [
      "['(5, 1) 6.40', '(19, 1) 3.10', '(19, 2) 0.50', '(8, 1) 5.50', '(7, 2) 0.20', '(10, 2) 2.60', 'idle 1.10', '(15, 2) 0.60']\n",
      "['(20, 1) 6.80', '(20, 2) 6.60', 'idle 6.50', '(9, 2) 0.40']\n",
      "['(2, 1) 9.60', '(16, 1) 6.20', '(8, 2) 0.90']\n",
      "['(3, 1) 4.80', '(6, 1) 3.50', '(13, 2) 4.30', '(1, 1) 4.90']\n",
      "['(7, 1) 9.60', '(6, 2) 5.00', '(15, 1) 4.80']\n",
      "['(13, 1) 7.60', '(5, 2) 1.00', '(11, 1) 3.50', '(17, 2) 6.90']\n",
      "['(17, 1) 9.00', '(14, 1) 8.70', '(16, 2) 0.60']\n",
      "['(18, 1) 5.30', '(18, 2) 1.70', '(12, 1) 0.50', '(12, 2) 5.80', '(9, 1) 6.60']\n",
      "['(4, 1) 8.90', '(3, 2) 1.20', '(10, 1) 5.40', '(11, 2) 2.60', '(1, 2) 5.00']\n"
     ]
    }
   ],
   "source": [
    "# 類似Gantt Chart\n",
    "# () is 1-indexed job name, the attached value is its associated proc time\n",
    "# idle is the gap appears to preserve precedence between the operations within the same job \n",
    "print(*M.schedule, sep = '\\n')"
   ]
  },
  {
   "cell_type": "markdown",
   "id": "bc2ae7d2",
   "metadata": {},
   "source": [
    "## Testing all instances"
   ]
  },
  {
   "cell_type": "code",
   "execution_count": 87,
   "id": "a1349850",
   "metadata": {},
   "outputs": [
    {
     "name": "stdout",
     "output_type": "stream",
     "text": [
      "[INFO] 12 jobs, 5 machines\n",
      "[INFO] Tolerance: 1.81\n",
      "** Summary \n",
      "instance 0:\n",
      "First objective (# tardy): 0 []\n",
      "Second objective (makespan): 8.2\n",
      "==================================\n",
      "[INFO] 11 jobs, 5 machines\n",
      "[INFO] Tolerance: 2.21\n",
      "** Summary \n",
      "instance 1:\n",
      "First objective (# tardy): 1 [7]\n",
      "Second objective (makespan): 8.7\n",
      "==================================\n",
      "[INFO] 10 jobs, 5 machines\n",
      "[INFO] Tolerance: 2.33\n",
      "[INFO] Job 3 will be tardy even if scheduled, queue last.\n",
      "[INFO] Job 3 will be tardy even if scheduled, queue last.\n",
      "** Summary \n",
      "instance 2:\n",
      "First objective (# tardy): 2 [3, 5]\n",
      "Second objective (makespan): 10.2\n",
      "==================================\n",
      "[INFO] 15 jobs, 7 machines\n",
      "[INFO] Tolerance: 5.06\n",
      "[INFO] Job 2 will be tardy even if scheduled, queue last.\n",
      "[INFO] Job 10 will be tardy even if scheduled, queue last.\n",
      "[INFO] Job 3 will be tardy even if scheduled, queue last.\n",
      "[INFO] Job 12 will be tardy even if scheduled, queue last.\n",
      "[INFO] Job 4 will be tardy even if scheduled, queue last.\n",
      "[INFO] Job 14 will be tardy even if scheduled, queue last.\n",
      "[INFO] Job 7 will be tardy even if scheduled, queue last.\n",
      "[INFO] Job 2 will be tardy even if scheduled, queue last.\n",
      "[INFO] Job 3 will be tardy even if scheduled, queue last.\n",
      "[INFO] Job 4 will be tardy even if scheduled, queue last.\n",
      "[INFO] Job 7 will be tardy even if scheduled, queue last.\n",
      "[INFO] Job 10 will be tardy even if scheduled, queue last.\n",
      "[INFO] Job 12 will be tardy even if scheduled, queue last.\n",
      "[INFO] Job 14 will be tardy even if scheduled, queue last.\n",
      "** Summary \n",
      "instance 3:\n",
      "First objective (# tardy): 10 [2, 3, 4, 6, 7, 10, 11, 12, 14, 15]\n",
      "Second objective (makespan): 23.83\n",
      "==================================\n",
      "[INFO] 20 jobs, 9 machines\n",
      "[INFO] Tolerance: 5.55\n",
      "[INFO] Job 8 will be tardy even if scheduled, queue last.\n",
      "[INFO] Job 1 will be tardy even if scheduled, queue last.\n",
      "[INFO] Job 15 will be tardy even if scheduled, queue last.\n",
      "[INFO] Job 9 op 1 has idle 6.50, postpone it.\n",
      "[INFO] Job 1 will be tardy even if scheduled, queue last.\n",
      "[INFO] Job 8 will be tardy even if scheduled, queue last.\n",
      "[INFO] Job 9 op 1 has idle 6.50, postpone it.\n",
      "[INFO] Job 15 will be tardy even if scheduled, queue last.\n",
      "** Summary \n",
      "instance 4:\n",
      "First objective (# tardy): 10 [1, 3, 6, 7, 8, 11, 13, 15, 16, 17]\n",
      "Second objective (makespan): 23.1\n",
      "==================================\n"
     ]
    }
   ],
   "source": [
    "Results = []\n",
    "for instidx in range(5):\n",
    "    data = instances[instidx]\n",
    "    M = Machines(data)\n",
    "    J = Jobs(len(data))\n",
    "    J.add_jobs(data)\n",
    "    heuristic(J = J, M = M)\n",
    "    print(f'** Summary \\ninstance {instidx}:')\n",
    "    Tardy_jobs = list(np.where(J.completion_times > J.due_dates)[0])\n",
    "    Tardy_jobs = [x+1 for x in Tardy_jobs]\n",
    "    Makespan = max(M.fintime)\n",
    "    print('First objective (# tardy):', len(Tardy_jobs), Tardy_jobs)\n",
    "    print('Second objective (makespan):', Makespan)\n",
    "    print('==================================')\n",
    "    Results.append({'J':J, 'M':M})"
   ]
  },
  {
   "cell_type": "code",
   "execution_count": 85,
   "id": "539e7589",
   "metadata": {},
   "outputs": [
    {
     "name": "stdout",
     "output_type": "stream",
     "text": [
      "['(3, 1) 3.00', '(2, 2) 2.00', 'idle 0.40', '(9, 2) 2.20']\n",
      "['(2, 1) 3.00', '(5, 2) 2.50', '(8, 1) 1.30', '(3, 2) 3.40']\n",
      "['(1, 1) 3.00', '(1, 2) 1.50', '(10, 1) 2.60']\n",
      "['(5, 1) 1.20', '(6, 1) 3.30', '(7, 1) 1.70', 'idle 0.90', '(10, 2) 1.30']\n",
      "['(4, 1) 3.00', '(4, 2) 0.60', '(9, 1) 1.80', 'idle 0.80', '(7, 2) 1.50']\n"
     ]
    }
   ],
   "source": [
    "print(*Results[2]['M'].schedule, sep = '\\n')"
   ]
  },
  {
   "cell_type": "code",
   "execution_count": 86,
   "id": "4e92fbc7",
   "metadata": {},
   "outputs": [
    {
     "name": "stdout",
     "output_type": "stream",
     "text": [
      "5, 5, 5, 5, 5, 5, 10, 10, 10, 10\n",
      "====\n",
      "4.5, 5.0, 10.2, 3.6, 5.5, 4.5, 7.7, 6.8, 7.6000000000000005, 8.4\n"
     ]
    }
   ],
   "source": [
    "print(*Results[2]['J'].due_dates, sep = ', ')\n",
    "print('====')\n",
    "print(*Results[2]['J'].completion_times, sep = ', ')"
   ]
  },
  {
   "cell_type": "markdown",
   "id": "89f4c5c7",
   "metadata": {},
   "source": [
    "## Output\n",
    "\n",
    "1. Write your heuristic algorithm here.\n",
    "2. We would call this function in CA2_grading_program.py to evaluate your algorithm.\n",
    "3. Please do not change the function name and the file name.\n",
    "4. The parameter is the file path of a data file, whose format is specified in the document. \n",
    "5. You need to return your schedule in two lists \"machine\" and \"completion_time\".\n",
    "    (a) machine[j][0] is the machine ID of the machine to process the first stage of job j + 1, and \n",
    "machine[j][1] is the machine to process the second stage of job j + 1.\n",
    "    (b) completion_time[j][0] is the completion time of the first stage of job j + 1, and \n",
    "completion_time[j][1] is the completion time of the second stage of job j + 1. \n",
    "    \n",
    "    \n",
    "    Note 1. If you have n jobs, both the two lists are n by 2 (n rows, 2 columns). \n",
    "    Note 2. In the list \"machine\", you should record the IDs of machines \n",
    "            (i.e., to let machine 1 process the first stage of job 1, \n",
    "            you should have machine[0][0] == 1 rather than machine[0][0] == 0).\n",
    "6. You only need to submit this algorithm_module.py."
   ]
  },
  {
   "cell_type": "code",
   "execution_count": 100,
   "id": "eb7c36c4",
   "metadata": {},
   "outputs": [],
   "source": [
    "def make_result(J):\n",
    "    '''pass in the resulted J'''\n",
    "    n = len(J.jobs)\n",
    "    machine, completion_time = [], []\n",
    "    for i in range(n):\n",
    "        op1_mach_id = J.jobs[i].assign_mach[0]+1\n",
    "        op2_mach_id = J.jobs[i].assign_mach[1]+1\n",
    "        op1_c_time = round(J.jobs[i].end_time[0], 3)\n",
    "        op2_c_time = round(J.jobs[i].end_time[1], 3)\n",
    "        machine.append([op1_mach_id, op2_mach_id])\n",
    "        completion_time.append([op1_c_time, op2_c_time])\n",
    "    assert len(machine) == len(completion_time) == n\n",
    "    return machine, completion_time"
   ]
  },
  {
   "cell_type": "code",
   "execution_count": 101,
   "id": "443b31f2",
   "metadata": {},
   "outputs": [
    {
     "data": {
      "text/plain": [
       "([[1, 5],\n",
       "  [3, 3],\n",
       "  [4, 2],\n",
       "  [2, 1],\n",
       "  [3, 4],\n",
       "  [5, 0],\n",
       "  [2, 4],\n",
       "  [3, 3],\n",
       "  [4, 5],\n",
       "  [3, 1],\n",
       "  [2, 4],\n",
       "  [5, 0]],\n",
       " [[2.7, 4.0],\n",
       "  [1.6, 3.8],\n",
       "  [0.7, 3.3],\n",
       "  [3.8, 4.5],\n",
       "  [2.4, 4.4],\n",
       "  [2.5, 2.5],\n",
       "  [1.4, 3.4],\n",
       "  [4.9, 7.0],\n",
       "  [5.2, 6.7],\n",
       "  [5.9, 6.4],\n",
       "  [6.8, 8.2],\n",
       "  [6.0, 6.0]])"
      ]
     },
     "execution_count": 101,
     "metadata": {},
     "output_type": "execute_result"
    }
   ],
   "source": [
    "make_result(Results[0]['J'])"
   ]
  },
  {
   "cell_type": "code",
   "execution_count": null,
   "id": "6cf828b9",
   "metadata": {},
   "outputs": [],
   "source": []
  }
 ],
 "metadata": {
  "kernelspec": {
   "display_name": "Python 3 (ipykernel)",
   "language": "python",
   "name": "python3"
  },
  "language_info": {
   "codemirror_mode": {
    "name": "ipython",
    "version": 3
   },
   "file_extension": ".py",
   "mimetype": "text/x-python",
   "name": "python",
   "nbconvert_exporter": "python",
   "pygments_lexer": "ipython3",
   "version": "3.8.12"
  }
 },
 "nbformat": 4,
 "nbformat_minor": 5
}
