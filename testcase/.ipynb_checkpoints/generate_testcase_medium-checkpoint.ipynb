{
 "cells": [
  {
   "cell_type": "code",
   "execution_count": 1,
   "id": "d8825b67",
   "metadata": {},
   "outputs": [],
   "source": [
    "import pandas as pd\n",
    "import numpy as np\n",
    "import matplotlib.pyplot as plt\n",
    "import os\n",
    "\n",
    "# display settings\n",
    "from IPython.display import display\n",
    "pd.options.display.max_columns = None\n",
    "pd.options.display.max_rows = None\n",
    "pd.set_option('display.float_format', lambda x: '%.4f' % x)"
   ]
  },
  {
   "cell_type": "code",
   "execution_count": 2,
   "id": "4dbbc583",
   "metadata": {},
   "outputs": [],
   "source": [
    "np.random.seed(42)\n",
    "t1 = np.random.randint(1, 100, 1000)\n",
    "t2 = np.random.randint(1, 300, 300)\n",
    "t3 = np.random.randint(1, 1000, 200)\n",
    "\n",
    "m1 = np.random.randint(1, 20, 1000)\n",
    "m2 = np.random.randint(5, 20, 30)\n",
    "m3 = np.random.randint(10, 20, 200)\n",
    "\n",
    "# print(t1 / m1)\n",
    "# print(t2 / m2)\n",
    "# print(t3 / m3)\n",
    "# t1, t2, t3, m1, m2, m3"
   ]
  },
  {
   "cell_type": "code",
   "execution_count": 3,
   "id": "c15ec0e7",
   "metadata": {},
   "outputs": [
    {
     "name": "stdout",
     "output_type": "stream",
     "text": [
      "192\n"
     ]
    }
   ],
   "source": [
    "processing_time_1 = []\n",
    "processing_time_2 = []\n",
    "due_time = []\n",
    "stage1_machines = []\n",
    "stage2_machines = []\n",
    "testcase_count = 0\n",
    "\n",
    "for i in range(len(t1)):\n",
    "    \n",
    "    if (t1[i] / m1[i] > 15):\n",
    "        continue\n",
    "        \n",
    "    \n",
    "    pt1 = np.random.randint(1, 100, t1[i]) / 10\n",
    "    pt2 = (np.random.randint(0, 120, t1[i])) / 10 - 2\n",
    "    \n",
    "    # make nan probability larger\n",
    "    pt2[pt2 < 0] = 0\n",
    "    \n",
    "    # positive correlation between processing time and due time + error\n",
    "    # try to lower the possibility of doomed-to-be tardy jobs\n",
    "    d1 = (pt1 + pt2) * 1.2 + np.random.randn(t1[i]) * 5 + 2\n",
    "    d1 = d1.round(decimals=1)\n",
    "    \n",
    "    # upper and lower bound\n",
    "    d1[d1 < 1] = 1\n",
    "    d1[d1 > 24] = 24\n",
    "    \n",
    "    \n",
    "    if (sum(pt1 + pt2) > 1.5 * m1[i] * 24):\n",
    "        continue\n",
    "        \n",
    "    if (sum(pt1 + pt2 > d1) > t1[i] * 0.2):\n",
    "        continue\n",
    "    \n",
    "#     print(\"d1\", d1)\n",
    "#     print(\"job num:\", t1[i])\n",
    "#     print(\"less than:\", sum(pt1 + pt2 > d1))\n",
    "#     print(\"operation time:\", m1[i] * 24)\n",
    "#     print(\"due time:\", sum(d1))\n",
    "#     print(\"process time:\", sum(pt1 + pt2))\n",
    "    \n",
    "#     plt.scatter(pt1 + pt2, d1)\n",
    "#     plt.xlabel(\"total processing time\")\n",
    "#     plt.ylabel(\"due time\");\n",
    "#     plt.show()\n",
    "    \n",
    "    processing_time_1.append(pt1)\n",
    "    processing_time_2.append(pt2)\n",
    "    due_time.append(d1)\n",
    "    \n",
    "    # machine\n",
    "    unable = np.random.randint(1, t1[i], int(t1[i] / 3))\n",
    "    \n",
    "    stage1_machine = \"\"\n",
    "    for m in range(1, m1[i] + 1):\n",
    "        stage1_machine += str(m) + \",\"\n",
    "    stage1_machine = stage1_machine.rstrip(\",\")\n",
    "    \n",
    "    stage2_machine = \"\"\n",
    "    for m in range(1, m1[i] + 1):\n",
    "        if m in unable:\n",
    "            continue\n",
    "        stage2_machine += str(m) + \",\"\n",
    "    stage2_machine = stage2_machine.rstrip(\",\")\n",
    "    \n",
    "    stage1_machines.append(stage1_machine)\n",
    "    stage2_machines.append(stage2_machine)\n",
    "    testcase_count += 1\n",
    "    \n",
    "print(len(testcase_count))"
   ]
  },
  {
   "cell_type": "code",
   "execution_count": 4,
   "id": "1b3ee7c7",
   "metadata": {},
   "outputs": [
    {
     "data": {
      "text/plain": [
       "'/Users/wangyanpu/Desktop/台灣大學/大三下/作業研究/case/Case2/testcase/testcases'"
      ]
     },
     "execution_count": 4,
     "metadata": {},
     "output_type": "execute_result"
    }
   ],
   "source": [
    "if os.getcwd() != '/Users/wangyanpu/Desktop/台灣大學/大三下/作業研究/case/Case2/testcase':\n",
    "    os.chdir('/Users/wangyanpu/Desktop/台灣大學/大三下/作業研究/case/Case2/testcase')\n",
    "if not os.path.exists('testcases'):\n",
    "    os.makedirs('testcases')\n",
    "\n",
    "os.chdir(\"testcases\")\n",
    "os.getcwd()"
   ]
  },
  {
   "cell_type": "code",
   "execution_count": 7,
   "id": "fccd5dd1",
   "metadata": {},
   "outputs": [
    {
     "name": "stdout",
     "output_type": "stream",
     "text": [
      "generated 192 cases\n"
     ]
    }
   ],
   "source": [
    "for i in range(testcase_count):\n",
    "    df = pd.DataFrame(due_time[i], columns=[\"Due Time\"])\n",
    "    df[\"Stage-1 Processing Time\"] = processing_time_1[i]\n",
    "    df[\"Stage-2 Processing Time\"] = processing_time_2[i]\n",
    "    df[\"Stage-1 Machines\"] = stage1_machines[i]\n",
    "    df[\"Stage-2 Machines\"] = stage2_machines[i]\n",
    "    df.index.names = ['Job ID']\n",
    "    \n",
    "    no_stage2 = (df[\"Stage-2 Processing Time\"] == 0)\n",
    "    df.loc[no_stage2, \"Stage-2 Machines\"] = np.nan  \n",
    "    \n",
    "    df.to_csv(\"instance \" + str(i + 1) + \".csv\")\n",
    "\n",
    "print(\"generated %d cases\" %(testcase_count))"
   ]
  },
  {
   "cell_type": "code",
   "execution_count": null,
   "id": "6249212f",
   "metadata": {},
   "outputs": [],
   "source": []
  },
  {
   "cell_type": "code",
   "execution_count": null,
   "id": "0a13cf23",
   "metadata": {},
   "outputs": [],
   "source": []
  }
 ],
 "metadata": {
  "kernelspec": {
   "display_name": "Python 3 (ipykernel)",
   "language": "python",
   "name": "python3"
  },
  "language_info": {
   "codemirror_mode": {
    "name": "ipython",
    "version": 3
   },
   "file_extension": ".py",
   "mimetype": "text/x-python",
   "name": "python",
   "nbconvert_exporter": "python",
   "pygments_lexer": "ipython3",
   "version": "3.9.10"
  }
 },
 "nbformat": 4,
 "nbformat_minor": 5
}
