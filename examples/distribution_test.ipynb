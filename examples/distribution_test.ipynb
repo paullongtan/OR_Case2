{
 "cells": [
  {
   "cell_type": "code",
   "execution_count": 1,
   "id": "91f4de4a",
   "metadata": {},
   "outputs": [],
   "source": [
    "import pandas as pd\n",
    "import numpy as np\n",
    "import matplotlib.pyplot as plt\n",
    "import os\n",
    "\n",
    "# display settings\n",
    "from IPython.display import display\n",
    "pd.options.display.max_columns = None\n",
    "pd.options.display.max_rows = None\n",
    "pd.set_option('display.float_format', lambda x: '%.4f' % x)"
   ]
  },
  {
   "cell_type": "code",
   "execution_count": 2,
   "id": "a6f30037",
   "metadata": {},
   "outputs": [
    {
     "name": "stdout",
     "output_type": "stream",
     "text": [
      "/Users/wangyanpu/Desktop/台灣大學/大三下/作業研究/case/Case2/baseline\n",
      "/Users/wangyanpu/Desktop/台灣大學/大三下/作業研究/case/Case2/to students/data\n"
     ]
    }
   ],
   "source": [
    "print(os.getcwd())\n",
    "os.chdir(\"../to students/data\")\n",
    "print(os.getcwd())\n",
    "path_list = ['instance 1.csv',\n",
    " 'instance 3.csv',\n",
    " 'instance 2.csv',\n",
    " 'instance 5.csv',\n",
    " 'instance 4.csv']"
   ]
  },
  {
   "cell_type": "code",
   "execution_count": 3,
   "id": "fde4025a",
   "metadata": {},
   "outputs": [],
   "source": [
    "def data_exploration(df, file_name):\n",
    "\n",
    "    mfor1 = df['Stage-1 Machines']\n",
    "    mfor2 = df['Stage-2 Machines']\n",
    "    mfor1 = [list(map(int, x.split(','))) for x in mfor1]\n",
    "    mfor2 = [list(map(int, x.split(','))) for x in mfor2 if x is not np.nan]\n",
    "    mfor1 = [item for sublist in mfor1 for item in sublist]\n",
    "    mfor2 = [item for sublist in mfor2 for item in sublist]\n",
    "    machine_set = list(set(mfor1 + mfor2))\n",
    "\n",
    "    df[\"total processing time\"] = df[\"Stage-1 Processing Time\"] + df[\"Stage-2 Processing Time\"]\n",
    "    df[\"due process ratio\"] = df[\"Due Time\"] / df[\"total processing time\"]\n",
    "\n",
    "    # display(df.describe())\n",
    "    job_num = len(df.index)\n",
    "    machine_num = len(machine_set)\n",
    "    pt1_sum = df[\"Stage-1 Processing Time\"].sum()\n",
    "    pt2_sum = df[\"Stage-2 Processing Time\"].sum()\n",
    "    due_sum = df[\"Due Time\"].sum()\n",
    "\n",
    "    print(\"job num:\", job_num)\n",
    "    print(\"machine num:\", machine_num)\n",
    "    print(\"pt sum 1:\", pt1_sum)\n",
    "    print(\"pt sum 2:\", pt2_sum)\n",
    "    print(\"total working time:\", machine_num * 24)\n",
    "    print(\"total processing time:\", pt1_sum + pt2_sum)\n",
    "    print(\"due time sum:\", due_sum)\n",
    "    print(\"job machine ratio\", job_num / machine_num)\n",
    "    print(\"due process ratio:\", due_sum / (pt1_sum + pt2_sum))\n",
    "    print(\"min due process ratio:\", df[\"due process ratio\"].min())\n",
    "    print(\"max due process ratio:\", df[\"due process ratio\"].max())\n",
    "\n",
    "    plt.scatter(df[\"total processing time\"].values, df[\"Due Time\"].values)\n",
    "    plt.title(file_name + \" scatter plt\")\n",
    "    plt.xlabel(\"total processing time\")\n",
    "    plt.ylabel(\"due time\");\n",
    "    plt.savefig(\"../../plt/scatter_\" + file_name + \".jpg\")\n",
    "    plt.show()\n",
    "    "
   ]
  },
  {
   "cell_type": "code",
   "execution_count": 4,
   "id": "f66fbf2e",
   "metadata": {},
   "outputs": [
    {
     "name": "stdout",
     "output_type": "stream",
     "text": [
      "instance 1.csv\n",
      "------------------\n",
      "job num: 12\n",
      "machine num: 5\n",
      "pt sum 1: 18.1\n",
      "pt sum 2: 11.999999999999998\n",
      "total working time: 120\n",
      "total processing time: 30.1\n",
      "due time sum: 85\n",
      "job machine ratio 2.4\n",
      "due process ratio: 2.823920265780731\n",
      "min due process ratio: 1.25\n",
      "max due process ratio: 6.666666666666667\n"
     ]
    },
    {
     "data": {
      "image/png": "[encoded data removed]",
      "text/plain": [
       "<Figure size 432x288 with 1 Axes>"
      ]
     },
     "metadata": {
      "needs_background": "light"
     },
     "output_type": "display_data"
    },
    {
     "name": "stdout",
     "output_type": "stream",
     "text": [
      "instance 3.csv\n",
      "------------------\n",
      "job num: 10\n",
      "machine num: 5\n",
      "pt sum 1: 23.900000000000002\n",
      "pt sum 2: 15.0\n",
      "total working time: 120\n",
      "total processing time: 38.900000000000006\n",
      "due time sum: 70\n",
      "job machine ratio 2.0\n",
      "due process ratio: 1.799485861182519\n",
      "min due process ratio: 0.78125\n",
      "max due process ratio: 7.692307692307692\n"
     ]
    },
    {
     "data": {
      "image/png": "[encoded data removed]",
      "text/plain": [
       "<Figure size 432x288 with 1 Axes>"
      ]
     },
     "metadata": {
      "needs_background": "light"
     },
     "output_type": "display_data"
    },
    {
     "name": "stdout",
     "output_type": "stream",
     "text": [
      "instance 2.csv\n",
      "------------------\n",
      "job num: 11\n",
      "machine num: 5\n",
      "pt sum 1: 20.7\n",
      "pt sum 2: 16.2\n",
      "total working time: 120\n",
      "total processing time: 36.9\n",
      "due time sum: 80\n",
      "job machine ratio 2.2\n",
      "due process ratio: 2.1680216802168024\n",
      "min due process ratio: 1.2820512820512822\n",
      "max due process ratio: 4.545454545454545\n"
     ]
    },
    {
     "data": {
      "image/png": "[encoded data removed]",
      "text/plain": [
       "<Figure size 432x288 with 1 Axes>"
      ]
     },
     "metadata": {
      "needs_background": "light"
     },
     "output_type": "display_data"
    },
    {
     "name": "stdout",
     "output_type": "stream",
     "text": [
      "instance 5.csv\n",
      "------------------\n",
      "job num: 20\n",
      "machine num: 9\n",
      "pt sum 1: 120.69999999999999\n",
      "pt sum 2: 45.900000000000006\n",
      "total working time: 216\n",
      "total processing time: 166.6\n",
      "due time sum: 291.79999999999995\n",
      "job machine ratio 2.2222222222222223\n",
      "due process ratio: 1.751500600240096\n",
      "min due process ratio: 1.0000000000000002\n",
      "max due process ratio: 3.518518518518519\n"
     ]
    },
    {
     "data": {
      "image/png": "[encoded data removed]",
      "text/plain": [
       "<Figure size 432x288 with 1 Axes>"
      ]
     },
     "metadata": {
      "needs_background": "light"
     },
     "output_type": "display_data"
    },
    {
     "name": "stdout",
     "output_type": "stream",
     "text": [
      "instance 4.csv\n",
      "------------------\n",
      "job num: 15\n",
      "machine num: 7\n",
      "pt sum 1: 69.63\n",
      "pt sum 2: 48.41\n",
      "total working time: 168\n",
      "total processing time: 118.03999999999999\n",
      "due time sum: 166.65\n",
      "job machine ratio 2.142857142857143\n",
      "due process ratio: 1.411809556082684\n",
      "min due process ratio: 0.9187129551227774\n",
      "max due process ratio: 3.4900542495479203\n"
     ]
    },
    {
     "data": {
      "image/png": "[encoded data removed]",
      "text/plain": [
       "<Figure size 432x288 with 1 Axes>"
      ]
     },
     "metadata": {
      "needs_background": "light"
     },
     "output_type": "display_data"
    }
   ],
   "source": [
    "for file in path_list:\n",
    "    print(file)\n",
    "    print(\"------------------\")\n",
    "    df = pd.read_csv(file)\n",
    "    # display(df)\n",
    "    data_exploration(df, file)"
   ]
  },
  {
   "cell_type": "code",
   "execution_count": 5,
   "id": "03c17fa1",
   "metadata": {},
   "outputs": [
    {
     "data": {
      "image/png": "[encoded data removed]",
      "text/plain": [
       "<Figure size 432x288 with 1 Axes>"
      ]
     },
     "metadata": {
      "needs_background": "light"
     },
     "output_type": "display_data"
    }
   ],
   "source": [
    "plt.scatter(df[\"total processing time\"].values, df[\"Due Time\"].values)\n",
    "plt.xlabel(\"total processing time\")\n",
    "plt.ylabel(\"due time\");\n",
    "plt.show()"
   ]
  },
  {
   "cell_type": "code",
   "execution_count": null,
   "id": "c141a011",
   "metadata": {},
   "outputs": [],
   "source": []
  }
 ],
 "metadata": {
  "kernelspec": {
   "display_name": "Python 3 (ipykernel)",
   "language": "python",
   "name": "python3"
  },
  "language_info": {
   "codemirror_mode": {
    "name": "ipython",
    "version": 3
   },
   "file_extension": ".py",
   "mimetype": "text/x-python",
   "name": "python",
   "nbconvert_exporter": "python",
   "pygments_lexer": "ipython3",
   "version": "3.9.10"
  }
 },
 "nbformat": 4,
 "nbformat_minor": 5
}
