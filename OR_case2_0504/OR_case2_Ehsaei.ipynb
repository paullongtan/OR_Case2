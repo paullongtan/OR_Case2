{
 "cells": [
  {
   "cell_type": "markdown",
   "id": "e193fef0",
   "metadata": {},
   "source": [
    "## 110-2 Operations Research Case 2\n",
    "\n",
    "Algorithm 0: Revised based on https://digitalcommons.odu.edu/cgi/viewcontent.cgi?article=1024&context=cee_fac_pubs"
   ]
  },
  {
   "cell_type": "markdown",
   "id": "ba1a8c1e",
   "metadata": {},
   "source": [
    "## Loading data"
   ]
  },
  {
   "cell_type": "code",
   "execution_count": 47,
   "id": "1ce9e725",
   "metadata": {},
   "outputs": [],
   "source": [
    "import pandas as pd \n",
    "import numpy as np"
   ]
  },
  {
   "cell_type": "code",
   "execution_count": 48,
   "id": "1f83d8aa",
   "metadata": {},
   "outputs": [],
   "source": [
    "datadir = './data'\n",
    "instances = []\n",
    "for i in range(5):\n",
    "    name = f'instance_{i+1}.csv'\n",
    "    fullpath = datadir+'/'+name\n",
    "    instances.append(pd.read_csv(fullpath))"
   ]
  },
  {
   "cell_type": "code",
   "execution_count": 49,
   "id": "13ea6fef",
   "metadata": {},
   "outputs": [
    {
     "data": {
      "text/html": [
       "<div>\n",
       "<style scoped>\n",
       "    .dataframe tbody tr th:only-of-type {\n",
       "        vertical-align: middle;\n",
       "    }\n",
       "\n",
       "    .dataframe tbody tr th {\n",
       "        vertical-align: top;\n",
       "    }\n",
       "\n",
       "    .dataframe thead th {\n",
       "        text-align: right;\n",
       "    }\n",
       "</style>\n",
       "<table border=\"1\" class=\"dataframe\">\n",
       "  <thead>\n",
       "    <tr style=\"text-align: right;\">\n",
       "      <th></th>\n",
       "      <th>Job ID</th>\n",
       "      <th>Stage-1 Processing Time</th>\n",
       "      <th>Stage-2 Processing Time</th>\n",
       "      <th>Stage-1 Machines</th>\n",
       "      <th>Stage-2 Machines</th>\n",
       "      <th>Due Time</th>\n",
       "    </tr>\n",
       "  </thead>\n",
       "  <tbody>\n",
       "    <tr>\n",
       "      <th>0</th>\n",
       "      <td>1</td>\n",
       "      <td>2.7</td>\n",
       "      <td>1.3</td>\n",
       "      <td>1,2,3,4,5</td>\n",
       "      <td>2,3,4,5</td>\n",
       "      <td>5</td>\n",
       "    </tr>\n",
       "    <tr>\n",
       "      <th>1</th>\n",
       "      <td>2</td>\n",
       "      <td>1.6</td>\n",
       "      <td>1.4</td>\n",
       "      <td>2,3,4,5</td>\n",
       "      <td>1,2,3,4,5</td>\n",
       "      <td>5</td>\n",
       "    </tr>\n",
       "    <tr>\n",
       "      <th>2</th>\n",
       "      <td>3</td>\n",
       "      <td>0.7</td>\n",
       "      <td>1.9</td>\n",
       "      <td>1,2,3,4,5</td>\n",
       "      <td>2,3,4,5</td>\n",
       "      <td>5</td>\n",
       "    </tr>\n",
       "    <tr>\n",
       "      <th>3</th>\n",
       "      <td>4</td>\n",
       "      <td>0.5</td>\n",
       "      <td>0.7</td>\n",
       "      <td>2,3,4,5</td>\n",
       "      <td>1,2,3,4,5</td>\n",
       "      <td>5</td>\n",
       "    </tr>\n",
       "    <tr>\n",
       "      <th>4</th>\n",
       "      <td>5</td>\n",
       "      <td>0.8</td>\n",
       "      <td>1.0</td>\n",
       "      <td>1,2,3,4,5</td>\n",
       "      <td>2,3,4,5</td>\n",
       "      <td>5</td>\n",
       "    </tr>\n",
       "    <tr>\n",
       "      <th>5</th>\n",
       "      <td>6</td>\n",
       "      <td>2.5</td>\n",
       "      <td>0.0</td>\n",
       "      <td>1,2,3,4,5</td>\n",
       "      <td>NaN</td>\n",
       "      <td>5</td>\n",
       "    </tr>\n",
       "    <tr>\n",
       "      <th>6</th>\n",
       "      <td>7</td>\n",
       "      <td>1.4</td>\n",
       "      <td>2.0</td>\n",
       "      <td>2,3,4,5</td>\n",
       "      <td>2,3,4,5</td>\n",
       "      <td>5</td>\n",
       "    </tr>\n",
       "    <tr>\n",
       "      <th>7</th>\n",
       "      <td>8</td>\n",
       "      <td>1.1</td>\n",
       "      <td>1.1</td>\n",
       "      <td>2,3,4,5</td>\n",
       "      <td>2,3,4,5</td>\n",
       "      <td>10</td>\n",
       "    </tr>\n",
       "    <tr>\n",
       "      <th>8</th>\n",
       "      <td>9</td>\n",
       "      <td>0.8</td>\n",
       "      <td>0.7</td>\n",
       "      <td>1,2,3,4,5</td>\n",
       "      <td>2,3,4,5</td>\n",
       "      <td>10</td>\n",
       "    </tr>\n",
       "    <tr>\n",
       "      <th>9</th>\n",
       "      <td>10</td>\n",
       "      <td>1.0</td>\n",
       "      <td>0.5</td>\n",
       "      <td>2,3,4,5</td>\n",
       "      <td>1,2,3,4,5</td>\n",
       "      <td>10</td>\n",
       "    </tr>\n",
       "    <tr>\n",
       "      <th>10</th>\n",
       "      <td>11</td>\n",
       "      <td>3.0</td>\n",
       "      <td>1.4</td>\n",
       "      <td>1,2,3,4,5</td>\n",
       "      <td>2,3,4,5</td>\n",
       "      <td>10</td>\n",
       "    </tr>\n",
       "    <tr>\n",
       "      <th>11</th>\n",
       "      <td>12</td>\n",
       "      <td>2.0</td>\n",
       "      <td>0.0</td>\n",
       "      <td>2,3,4,5</td>\n",
       "      <td>NaN</td>\n",
       "      <td>10</td>\n",
       "    </tr>\n",
       "  </tbody>\n",
       "</table>\n",
       "</div>"
      ],
      "text/plain": [
       "    Job ID  Stage-1 Processing Time  Stage-2 Processing Time Stage-1 Machines  \\\n",
       "0        1                      2.7                      1.3        1,2,3,4,5   \n",
       "1        2                      1.6                      1.4          2,3,4,5   \n",
       "2        3                      0.7                      1.9        1,2,3,4,5   \n",
       "3        4                      0.5                      0.7          2,3,4,5   \n",
       "4        5                      0.8                      1.0        1,2,3,4,5   \n",
       "5        6                      2.5                      0.0        1,2,3,4,5   \n",
       "6        7                      1.4                      2.0          2,3,4,5   \n",
       "7        8                      1.1                      1.1          2,3,4,5   \n",
       "8        9                      0.8                      0.7        1,2,3,4,5   \n",
       "9       10                      1.0                      0.5          2,3,4,5   \n",
       "10      11                      3.0                      1.4        1,2,3,4,5   \n",
       "11      12                      2.0                      0.0          2,3,4,5   \n",
       "\n",
       "   Stage-2 Machines  Due Time  \n",
       "0           2,3,4,5         5  \n",
       "1         1,2,3,4,5         5  \n",
       "2           2,3,4,5         5  \n",
       "3         1,2,3,4,5         5  \n",
       "4           2,3,4,5         5  \n",
       "5               NaN         5  \n",
       "6           2,3,4,5         5  \n",
       "7           2,3,4,5        10  \n",
       "8           2,3,4,5        10  \n",
       "9         1,2,3,4,5        10  \n",
       "10          2,3,4,5        10  \n",
       "11              NaN        10  "
      ]
     },
     "execution_count": 49,
     "metadata": {},
     "output_type": "execute_result"
    }
   ],
   "source": [
    "instances[0]"
   ]
  },
  {
   "cell_type": "code",
   "execution_count": 50,
   "id": "d3af39af",
   "metadata": {},
   "outputs": [
    {
     "data": {
      "text/plain": [
       "array([0, 0, 0, 0, 0, 0, 0, 5, 5, 5, 5, 5])"
      ]
     },
     "execution_count": 50,
     "metadata": {},
     "output_type": "execute_result"
    }
   ],
   "source": [
    "df = instances[0]\n",
    "due_dates = df['Due Time'].to_numpy()\n",
    "# Related Relative Due Dates\n",
    "RRDD = due_dates - np.min(due_dates)\n",
    "RRDD"
   ]
  },
  {
   "cell_type": "code",
   "execution_count": 186,
   "id": "d50503b0",
   "metadata": {},
   "outputs": [],
   "source": [
    "# job structure \n",
    "class Job:\n",
    "    '''structure for 1 job '''\n",
    "    def __init__(self, row):\n",
    "        '''input := df.iloc[idx, :]'''\n",
    "        self.id = row['Job ID']\n",
    "        self.due = row['Due Time']\n",
    "        self.stage_states = [False for _ in range(2)] # True as complete, False as not yet processed\n",
    "        self.stage_pt = [row['Stage-1 Processing Time'], row['Stage-2 Processing Time']]\n",
    "        mfor1 = list(map(int, row['Stage-1 Machines'].split(',')))\n",
    "        if row['Stage-2 Machines'] is not np.nan:\n",
    "            mfor2 = list(map(int, row['Stage-2 Machines'].split(',')))\n",
    "        else: mfor2 = [] \n",
    "        self.stage_mach = [mfor1, mfor2]\n",
    "        self.assign_mach = [None for _ in range(2)]\n",
    "        self.start_time = [-1 for _ in range(2)]\n",
    "        self.end_time = [-1 for _ in range(2)]\n",
    "    \n",
    "    def __repr__(self):\n",
    "        return f'\\\n",
    "          * Job id: {self.id}\\n\\\n",
    "          * Due time:{self.due}\\n\\\n",
    "          stage 1: {self.stage_states[0]}, {self.assign_mach[0]}\\n\\\n",
    "                   {self.stage_pt[0]}, {self.stage_mach[0]}\\n\\\n",
    "          stage 2: {self.stage_states[1]}, {self.assign_mach[1]}\\n\\\n",
    "                   {self.stage_pt[1]}, {self.stage_mach[1]}'\n",
    "    __str__ = __repr__\n",
    "        "
   ]
  },
  {
   "cell_type": "code",
   "execution_count": 344,
   "id": "f7e98865",
   "metadata": {},
   "outputs": [],
   "source": [
    "class Jobs:\n",
    "    '''structure for multiple jobs' management'''\n",
    "    def __init__(self, n):\n",
    "        self.completion_times = np.zeros(n)\n",
    "        self.tardiness = np.zeros(n)\n",
    "    def get_RRDD(self):\n",
    "        if getattr(self, 'RRDD', None) is None:\n",
    "            self.RRDD = self.due_dates - np.min(self.due_dates)\n",
    "        return self.RRDD # static\n",
    "    \n",
    "    def add_jobs(self, datas):\n",
    "        self.due_dates = df['Due Time'].to_numpy()\n",
    "        self.jobs = []\n",
    "        for i in range(len(datas)):\n",
    "            row = datas.iloc[i, :]\n",
    "            jobi = Job(row)\n",
    "            self.jobs.append(jobi)\n",
    "    \n",
    "    def assign(self, job_name, mach, st):\n",
    "        '''job_name = (2, 0) means job 3 and op 1\n",
    "        note that job and op is 0-indexed as well as machines\n",
    "        op\n",
    "        '''\n",
    "        \n",
    "        i = 0 \n",
    "        jobidx, op = job_name \n",
    "        job = self.jobs[jobidx]\n",
    "        while i < op:\n",
    "            if job.stage_states[i] is not True:\n",
    "                print(f'Error scheduling operation: previous operation {i} hasn\\'t been scheduled.')\n",
    "                return \n",
    "            i += 1\n",
    "        J.completion_times[jobidx] = st + job.stage_pt[op]\n",
    "        job.assign_mach[op] = mach\n",
    "        job.start_time[op] = st\n",
    "        job.end_time[op] = J.completion_times[jobidx]\n",
    "        job.stage_states[op] = True "
   ]
  },
  {
   "cell_type": "code",
   "execution_count": 345,
   "id": "a41d7953",
   "metadata": {},
   "outputs": [],
   "source": [
    "class Machines:\n",
    "    def __init__(self, df):\n",
    "        '''pass the stage1, stage2 machine lists'''\n",
    "        mfor1 = df['Stage-1 Machines'].values.tolist()\n",
    "        mfor2 = df['Stage-2 Machines'].values.tolist()\n",
    "        mfor1 = [list(map(int, x.split(','))) for x in mfor1]\n",
    "        mfor2 = [list(map(int, x.split(','))) for x in mfor2 if x is not np.nan]\n",
    "        mfor1 = sum(mfor1, [])\n",
    "        mfor2 = sum(mfor2, [])\n",
    "        self.number = max(max(mfor1), max(mfor2))\n",
    "        self.versatile = [mfor1.count(i+1) + mfor2.count(i+1) for i in range(self.number)]\n",
    "        self.schedule = [[] for _ in range(self.number)]\n",
    "        self.span = [[] for _ in range(self.number)]\n",
    "        self.fintime = [0 for _ in range(self.number)]\n",
    "        \n",
    "    def is_available(self):\n",
    "        '''pass machine 編號(1-indexed) to get the state'''\n",
    "        pass\n",
    "    def _schedule(self, mach, job_name, proc_time):\n",
    "        '''mach is 0-indexed'''\n",
    "        display_name = tuple([x+1 for x in job_name])\n",
    "        self.schedule[mach].append(display_name) \n",
    "        self.span[mach].append(proc_time)\n",
    "        self.fintime[mach] += proc_time"
   ]
  },
  {
   "cell_type": "markdown",
   "id": "fdad5343",
   "metadata": {},
   "source": [
    "## Preprocessing "
   ]
  },
  {
   "cell_type": "code",
   "execution_count": 346,
   "id": "95d37be8",
   "metadata": {},
   "outputs": [
    {
     "data": {
      "text/plain": [
       "array([0, 0, 0, 0, 0, 0, 0, 5, 5, 5, 5, 5])"
      ]
     },
     "execution_count": 346,
     "metadata": {},
     "output_type": "execute_result"
    }
   ],
   "source": [
    "M = Machines(df)\n",
    "M.versatile\n",
    "J = Jobs(len(df))\n",
    "J.add_jobs(df)\n",
    "J.get_RRDD()"
   ]
  },
  {
   "cell_type": "markdown",
   "id": "284947eb",
   "metadata": {},
   "source": [
    "## Scheduling the first operation\n",
    "\n",
    "Re-run the code from **preprcoessing section** otherwise the data stuctures\n",
    "keep accumulating repetitive datas. "
   ]
  },
  {
   "cell_type": "code",
   "execution_count": 347,
   "id": "3cd007ff",
   "metadata": {},
   "outputs": [
    {
     "data": {
      "text/plain": [
       "array([ 8,  9,  7, 11, 10,  3,  2,  4,  6,  1,  5,  0])"
      ]
     },
     "execution_count": 347,
     "metadata": {},
     "output_type": "execute_result"
    }
   ],
   "source": [
    "# for the first operation\n",
    "temp_completion_times = np.array([job.stage_pt[0] for i, job in enumerate(J.jobs)])\n",
    "temp_completion_times\n",
    "tardiness = np.subtract(temp_completion_times, J.get_RRDD())\n",
    "\n",
    "order = np.argsort(tardiness, kind='mergesort')# gives stable sort\n",
    "# the job index order (0-indexed) to be assigned \n",
    "order"
   ]
  },
  {
   "cell_type": "code",
   "execution_count": 348,
   "id": "64927cb6",
   "metadata": {},
   "outputs": [
    {
     "name": "stdout",
     "output_type": "stream",
     "text": [
      "[(9, 1), (3, 1), (6, 1)]\n",
      "[(10, 1), (4, 1), (7, 1)]\n",
      "[(8, 1), (5, 1), (2, 1)]\n",
      "[(12, 1), (1, 1)]\n",
      "[(11, 1)]\n"
     ]
    }
   ],
   "source": [
    "# schedule the first operation in accordance to tardiness\n",
    "\n",
    "# which index\n",
    "batch_index = 0\n",
    "\n",
    "for jidx in order:\n",
    "    job = J.jobs[jidx]\n",
    "    job_name = (jidx, batch_index)\n",
    "    job_proc_time = job.stage_pt[batch_index]\n",
    "    if job_proc_time <= 0:\n",
    "        # update job\n",
    "        J.assign(job_name = job_name, \n",
    "                mach = -1,\n",
    "                st = job.end_time[batch_index-1]) \n",
    "        # note that it's only possible for second operation to have proc time = 0\n",
    "        # so this doesn't trigger index error\n",
    "        continue\n",
    "    # note that the available machines here is 1-indexed, change them to 0-indexed\n",
    "    avail_machines_idx = [x-1 for x in job.stage_mach[batch_index]]\n",
    "    # The less versatile, the less fintime, the better. Break ties with smallest-index rule.\n",
    "    curr_machine = min(avail_machines_idx, key = lambda x: (M.fintime[x],M.versatile[x], x))\n",
    "    # schedule the operation on curr_machine\n",
    "    M._schedule(job_name = job_name, \n",
    "               mach = curr_machine, \n",
    "               proc_time = job_proc_time)\n",
    "    # update the Jobs objects\n",
    "    # start time is either concatenated to the machines's last scheduled operation's end\n",
    "    # or the end of its previous operation \n",
    "    J.assign(job_name = job_name, \n",
    "            mach = curr_machine, \n",
    "             st = max(M.fintime[curr_machine], J.completion_times[jidx])\n",
    "            )\n",
    "print(*M.schedule, sep = '\\n')"
   ]
  },
  {
   "cell_type": "code",
   "execution_count": 349,
   "id": "fd9d1908",
   "metadata": {},
   "outputs": [
    {
     "data": {
      "text/plain": [
       "[4.0, 2.9, 3.5, 4.7, 3.0]"
      ]
     },
     "execution_count": 349,
     "metadata": {},
     "output_type": "execute_result"
    }
   ],
   "source": [
    "M.fintime"
   ]
  },
  {
   "cell_type": "code",
   "execution_count": 350,
   "id": "7eb1d8e1",
   "metadata": {},
   "outputs": [
    {
     "data": {
      "text/plain": [
       "[[0.8, 0.7, 2.5], [1.0, 0.5, 1.4], [1.1, 0.8, 1.6], [2.0, 2.7], [3.0]]"
      ]
     },
     "execution_count": 350,
     "metadata": {},
     "output_type": "execute_result"
    }
   ],
   "source": [
    "M.span"
   ]
  },
  {
   "cell_type": "markdown",
   "id": "1c5dd617",
   "metadata": {},
   "source": [
    "## Scheduling the second operation"
   ]
  },
  {
   "cell_type": "code",
   "execution_count": 351,
   "id": "978c24e7",
   "metadata": {},
   "outputs": [
    {
     "name": "stdout",
     "output_type": "stream",
     "text": [
      "[(9, 1), (3, 1), (6, 1), (2, 2)]\n",
      "[(10, 1), (4, 1), (7, 1), (9, 2), (4, 2), (3, 2)]\n",
      "[(8, 1), (5, 1), (2, 1), (8, 2), (5, 2)]\n",
      "[(12, 1), (1, 1), (7, 2)]\n",
      "[(11, 1), (10, 2), (11, 2), (1, 2)]\n"
     ]
    }
   ],
   "source": [
    "batch_index = 1\n",
    "for jidx in order:\n",
    "    job = J.jobs[jidx]\n",
    "    job_name = (jidx, batch_index)\n",
    "    job_proc_time = job.stage_pt[batch_index]\n",
    "    if job_proc_time <= 0:\n",
    "        # update job\n",
    "        J.assign(job_name = job_name, \n",
    "                mach = -1,\n",
    "                st = job.end_time[batch_index-1]) \n",
    "        # note that it's only possible for second operation to have proc time = 0\n",
    "        # so this doesn't trigger index error\n",
    "        continue\n",
    "    # note that the available machines here is 1-indexed, change them to 0-indexed\n",
    "    avail_machines_idx = [x-1 for x in job.stage_mach[batch_index]]\n",
    "    # The less versatile, the less fintime, the better. Break ties with smallest-index rule.\n",
    "    curr_machine = min(avail_machines_idx, key = lambda x: (M.fintime[x],M.versatile[x], x))\n",
    "    # schedule the operation on curr_machine\n",
    "    M._schedule(job_name = job_name, \n",
    "               mach = curr_machine, \n",
    "               proc_time = job_proc_time)\n",
    "    # update the Jobs objects\n",
    "    # start time is either concatenated to the machines's last scheduled operation's end\n",
    "    # or the end of its previous operation \n",
    "    J.assign(job_name = job_name, \n",
    "            mach = curr_machine, \n",
    "             st = max(M.fintime[curr_machine], J.completion_times[jidx])\n",
    "            )\n",
    "print(*M.schedule, sep = '\\n')"
   ]
  },
  {
   "cell_type": "code",
   "execution_count": 352,
   "id": "e84f7219",
   "metadata": {},
   "outputs": [
    {
     "data": {
      "text/plain": [
       "[5.4, 6.199999999999999, 5.6, 6.7, 6.2]"
      ]
     },
     "execution_count": 352,
     "metadata": {},
     "output_type": "execute_result"
    }
   ],
   "source": [
    "M.fintime"
   ]
  },
  {
   "cell_type": "code",
   "execution_count": 353,
   "id": "6ccbfabb",
   "metadata": {},
   "outputs": [
    {
     "data": {
      "text/plain": [
       "[[0.8, 0.7, 2.5, 1.4],\n",
       " [1.0, 0.5, 1.4, 0.7, 0.7, 1.9],\n",
       " [1.1, 0.8, 1.6, 1.1, 1.0],\n",
       " [2.0, 2.7, 2.0],\n",
       " [3.0, 0.5, 1.4, 1.3]]"
      ]
     },
     "execution_count": 353,
     "metadata": {},
     "output_type": "execute_result"
    }
   ],
   "source": [
    "M.span"
   ]
  },
  {
   "cell_type": "code",
   "execution_count": 354,
   "id": "078baa47",
   "metadata": {},
   "outputs": [
    {
     "data": {
      "text/plain": [
       "array([8.7, 6.8, 8.1, 5. , 6.6, 6.5, 8.7, 5.7, 4.3, 4. , 7.4, 4. ])"
      ]
     },
     "execution_count": 354,
     "metadata": {},
     "output_type": "execute_result"
    }
   ],
   "source": [
    "J.completion_times"
   ]
  },
  {
   "cell_type": "code",
   "execution_count": 363,
   "id": "948e4a1d",
   "metadata": {},
   "outputs": [
    {
     "name": "stdout",
     "output_type": "stream",
     "text": [
      "First objective (# tardy): 6\n",
      "Second objective: (makespan) 6.7\n"
     ]
    }
   ],
   "source": [
    "Tardy_number = len(np.where(J.completion_times > J.due_dates)[0])\n",
    "Makespan = max(M.fintime)\n",
    "print('First objective (# tardy):', Tardy_number)\n",
    "print('Second objective: (makespan)', Makespan)"
   ]
  },
  {
   "cell_type": "markdown",
   "id": "4fb16134",
   "metadata": {},
   "source": [
    "### Scheduling by operations真的看起來太慘了..."
   ]
  },
  {
   "cell_type": "code",
   "execution_count": null,
   "id": "e0fcbe1f",
   "metadata": {},
   "outputs": [],
   "source": []
  }
 ],
 "metadata": {
  "kernelspec": {
   "display_name": "Python 3 (ipykernel)",
   "language": "python",
   "name": "python3"
  },
  "language_info": {
   "codemirror_mode": {
    "name": "ipython",
    "version": 3
   },
   "file_extension": ".py",
   "mimetype": "text/x-python",
   "name": "python",
   "nbconvert_exporter": "python",
   "pygments_lexer": "ipython3",
   "version": "3.8.12"
  }
 },
 "nbformat": 4,
 "nbformat_minor": 5
}
